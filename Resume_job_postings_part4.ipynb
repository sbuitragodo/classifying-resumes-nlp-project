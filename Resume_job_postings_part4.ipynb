{
 "cells": [
  {
   "cell_type": "markdown",
   "id": "deeedf49",
   "metadata": {},
   "source": [
    "# Resume Job Postings\n",
    "\n",
    "4. Evaluating skills requirements vs resume"
   ]
  },
  {
   "cell_type": "code",
   "execution_count": 11,
   "metadata": {},
   "outputs": [],
   "source": [
    "# Setup\n",
    "import pandas as pd\n",
    "import numpy as np\n",
    "\n",
    "from sklearn.feature_extraction.text import TfidfVectorizer\n",
    "from sklearn.metrics.pairwise import cosine_similarity\n",
    "import matplotlib.pyplot as plt\n",
    "\n",
    "%matplotlib inline"
   ]
  },
  {
   "cell_type": "code",
   "execution_count": 12,
   "metadata": {},
   "outputs": [],
   "source": [
    "# Load files from previous steps\n",
    "cluster_labels_df = pd.read_pickle('cluster_labels_df.pk')\n",
    "bullet_point_df = pd.read_pickle('bullet_point_df.pk')\n",
    "# Clusters defined in previous step\n",
    "clusters = 5"
   ]
  },
  {
   "cell_type": "code",
   "execution_count": 13,
   "metadata": {},
   "outputs": [
    {
     "data": {
      "text/plain": [
       "(1730, 1)"
      ]
     },
     "execution_count": 13,
     "metadata": {},
     "output_type": "execute_result"
    }
   ],
   "source": [
    "# Checking shape of both files\n",
    "cluster_labels_df.shape\n",
    "bullet_point_df.shape"
   ]
  },
  {
   "cell_type": "code",
   "execution_count": 14,
   "metadata": {},
   "outputs": [],
   "source": [
    "# Combine skill clusters\n",
    "def get_cluster_words(df_cluster):\n",
    "    indices = df_cluster.index.values\n",
    "    cluster_words = ' '.join(bullet_point_df.loc[indices, 'bullet_point'])\n",
    "    \n",
    "    return cluster_words"
   ]
  },
  {
   "cell_type": "code",
   "execution_count": 15,
   "metadata": {},
   "outputs": [],
   "source": [
    "skill_cluster_texts = []\n",
    "\n",
    "for c in range(clusters):\n",
    "    df_cluster = cluster_labels_df[cluster_labels_df.Cluster == c]\n",
    "    cluster_words = get_cluster_words(df_cluster)\n",
    "    skill_cluster_texts.append(cluster_words)"
   ]
  },
  {
   "cell_type": "code",
   "execution_count": 16,
   "metadata": {},
   "outputs": [],
   "source": [
    "# Skills section from resume\n",
    "resume_skills = 'Python, Pandas, machine learning, natural language processing'"
   ]
  },
  {
   "cell_type": "code",
   "execution_count": 17,
   "metadata": {},
   "outputs": [],
   "source": [
    "skill_cluster_texts.append(resume_skills)"
   ]
  },
  {
   "cell_type": "code",
   "execution_count": 18,
   "metadata": {},
   "outputs": [],
   "source": [
    "# Apply TFIDF\n",
    "skills_vectorizer = TfidfVectorizer(stop_words='english')\n",
    "skills_tfidf = skills_vectorizer.fit_transform(skill_cluster_texts)\n",
    "\n",
    "# Calculate cosine distances to resume skills\n",
    "cos_dists = cosine_similarity(skills_tfidf[:-1, :], skills_tfidf[-1, :])"
   ]
  },
  {
   "cell_type": "code",
   "execution_count": 20,
   "metadata": {},
   "outputs": [
    {
     "name": "stdout",
     "output_type": "stream",
     "text": [
      "(6, 2647)\n",
      "(5, 1)\n"
     ]
    }
   ],
   "source": [
    "print(skills_tfidf.shape)\n",
    "print(cos_dists.shape)"
   ]
  },
  {
   "cell_type": "code",
   "execution_count": 21,
   "metadata": {},
   "outputs": [],
   "source": [
    "# the cos_dists variable has one column, so we flatten it to enable adding it to our DataFrame\n",
    "skills_df = pd.DataFrame({'cluster': range(1, 6), 'text': skill_cluster_texts[:-1],'cosine_distance': cos_dists.flatten()})\n",
    "skills_df.sort_values(by='cosine_distance', ascending=False, inplace=True)\n",
    "skills_df.reset_index(inplace=True, drop=True)"
   ]
  },
  {
   "cell_type": "code",
   "execution_count": 22,
   "metadata": {},
   "outputs": [
    {
     "data": {
      "text/html": [
       "<div>\n",
       "<style scoped>\n",
       "    .dataframe tbody tr th:only-of-type {\n",
       "        vertical-align: middle;\n",
       "    }\n",
       "\n",
       "    .dataframe tbody tr th {\n",
       "        vertical-align: top;\n",
       "    }\n",
       "\n",
       "    .dataframe thead th {\n",
       "        text-align: right;\n",
       "    }\n",
       "</style>\n",
       "<table border=\"1\" class=\"dataframe\">\n",
       "  <thead>\n",
       "    <tr style=\"text-align: right;\">\n",
       "      <th></th>\n",
       "      <th>cluster</th>\n",
       "      <th>text</th>\n",
       "      <th>cosine_distance</th>\n",
       "    </tr>\n",
       "  </thead>\n",
       "  <tbody>\n",
       "    <tr>\n",
       "      <th>0</th>\n",
       "      <td>4</td>\n",
       "      <td>Highly advanced skills, and extensive experien...</td>\n",
       "      <td>0.459360</td>\n",
       "    </tr>\n",
       "    <tr>\n",
       "      <th>1</th>\n",
       "      <td>5</td>\n",
       "      <td>In depth skills and experience with independen...</td>\n",
       "      <td>0.215420</td>\n",
       "    </tr>\n",
       "    <tr>\n",
       "      <th>2</th>\n",
       "      <td>3</td>\n",
       "      <td>Strong collaboration skills with highly techni...</td>\n",
       "      <td>0.062891</td>\n",
       "    </tr>\n",
       "    <tr>\n",
       "      <th>3</th>\n",
       "      <td>2</td>\n",
       "      <td>Ability to curate/clean/organize large and mes...</td>\n",
       "      <td>0.025865</td>\n",
       "    </tr>\n",
       "    <tr>\n",
       "      <th>4</th>\n",
       "      <td>1</td>\n",
       "      <td>Demonstrated ability to propose, initiate, and...</td>\n",
       "      <td>0.019350</td>\n",
       "    </tr>\n",
       "  </tbody>\n",
       "</table>\n",
       "</div>"
      ],
      "text/plain": [
       "   cluster                                               text  cosine_distance\n",
       "0        4  Highly advanced skills, and extensive experien...         0.459360\n",
       "1        5  In depth skills and experience with independen...         0.215420\n",
       "2        3  Strong collaboration skills with highly techni...         0.062891\n",
       "3        2  Ability to curate/clean/organize large and mes...         0.025865\n",
       "4        1  Demonstrated ability to propose, initiate, and...         0.019350"
      ]
     },
     "execution_count": 22,
     "metadata": {},
     "output_type": "execute_result"
    }
   ],
   "source": [
    "# Print df\n",
    "skills_df"
   ]
  },
  {
   "cell_type": "code",
   "execution_count": 23,
   "metadata": {},
   "outputs": [
    {
     "data": {
      "image/png": "[encoded data removed]",
      "text/plain": [
       "<Figure size 432x288 with 1 Axes>"
      ]
     },
     "metadata": {
      "needs_background": "light"
     },
     "output_type": "display_data"
    }
   ],
   "source": [
    "plt.plot(skills_df.index, skills_df['cosine_distance'])\n",
    "plt.xticks(skills_df.index, skills_df['cluster'])\n",
    "plt.xlabel('cluster number')\n",
    "_ = plt.ylabel('cosine distance')"
   ]
  },
  {
   "cell_type": "code",
   "execution_count": 24,
   "metadata": {},
   "outputs": [
    {
     "data": {
      "text/plain": [
       "array([2, 1, 0], dtype=int64)"
      ]
     },
     "execution_count": 24,
     "metadata": {},
     "output_type": "execute_result"
    }
   ],
   "source": [
    "# Checking the least similar clusters \n",
    "cluster_indices = skills_df.iloc[2:]['cluster'].values - 1\n",
    "cluster_indices"
   ]
  },
  {
   "cell_type": "code",
   "execution_count": 27,
   "metadata": {},
   "outputs": [
    {
     "name": "stdout",
     "output_type": "stream",
     "text": [
      "cluster 3\n",
      "degree; science; computer; mathematics; field; statistics; related; phd; master; engineering; data; experience; physics; quantitative; bachelor\n",
      "\n",
      "\n",
      "some sample bullets:\n",
      "- Bachelor's Degree in computer sciences or related field\n",
      "- Statistics\n",
      "- PhD degree preferred\n",
      "- Bachelor’s degree in Computer Science, Information Science, Mathematics, Physics or related discipline and 4 – 7 years of experience in that field. Master’s degree with 3 – 6 years of experience.\n",
      "cluster 2\n",
      "data; analysis; science; sources; experience; using; mining; models; sets; product; analytic; large; develop; business; work\n",
      "\n",
      "\n",
      "some sample bullets:\n",
      "- Established track record with data wrangling and data transformation\n",
      "- Ability to support any data-related operational tasks across the organization\n",
      "- Promote collaboration with other data science teams within the enterprise, encourage reuse of artifacts. Train business teams on basic data science principles and techniques.\n",
      "- Experience with converting & writing distributed algorithms to process large amount of unstructured data.\n",
      "cluster 1\n",
      "skills; ability; communication; work; business; team; excellent; written; verbal; communicate; knowledge; technical; problems; strong; results\n",
      "\n",
      "\n",
      "some sample bullets:\n",
      "- Transportation knowledge is a plus.\n",
      "- Ability to both follow and take lead, depending on the situation\n",
      "- Proven expertise in successful automation and deployment\n",
      "- Develop qualitative and predictive analytics to inform organizational policy.\n"
     ]
    }
   ],
   "source": [
    "# set the random seed for reproducible bullet point sampling\n",
    "np.random.seed(2)\n",
    "for c in cluster_indices:\n",
    "    print('cluster {}'.format(c + 1))\n",
    "    # reverse the dictionary from {words: index} to {index: words}\n",
    "    word_index_dict = skills_vectorizer.vocabulary_\n",
    "    index_word_dict = {index: word for word, index in word_index_dict.items()}\n",
    "    # gets a 1-D array of TFIDF values for the cluster the TFIDF vector is a sparse array, so we convert it to a numpy array\n",
    "    # and flatten it to a single dimension so we can convert it to a dictionary of {word: tfidf} pairs\n",
    "    skills_tfidf_array = skills_tfidf[c, :].toarray().flatten()\n",
    "    # create {word: TFIDF_value} dictionary\n",
    "    skills_tfidf_scores = {index_word_dict[i]: tfidf for i, tfidf in enumerate(skills_tfidf_array)}\n",
    "    # sort from greatest to least TFIDF values and take the top 15 values\n",
    "    sorted_skills_tfidf_scores = {k: v for k, v in sorted(skills_tfidf_scores.items(), key=lambda item:-item[1])[:15]}\n",
    "    print('; '.join(sorted_skills_tfidf_scores.keys()))\n",
    "    print('\\n')\n",
    "    print('some sample bullets:')\n",
    "    for i in range(4):\n",
    "        cluster_idxs = cluster_labels_df[cluster_labels_df['Cluster'] == c].index.values\n",
    "        print('-', np.random.choice(bullet_point_df.loc[cluster_idxs]['bullet_point'].values))\n",
    "        #print('\\n\\n')"
   ]
  },
  {
   "cell_type": "code",
   "execution_count": null,
   "metadata": {},
   "outputs": [],
   "source": []
  }
 ],
 "metadata": {
  "interpreter": {
   "hash": "0ce5b0d3d7016a78f38153d8febd9754ffd4cf578927e97417bc03228832e5f0"
  },
  "kernelspec": {
   "display_name": "Python 3.7.9 64-bit",
   "name": "python3"
  },
  "language_info": {
   "codemirror_mode": {
    "name": "ipython",
    "version": 3
   },
   "file_extension": ".py",
   "mimetype": "text/x-python",
   "name": "python",
   "nbconvert_exporter": "python",
   "pygments_lexer": "ipython3",
   "version": "3.7.9"
  }
 },
 "nbformat": 4,
 "nbformat_minor": 5
}
