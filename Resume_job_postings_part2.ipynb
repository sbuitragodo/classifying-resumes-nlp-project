{
 "cells": [
  {
   "cell_type": "markdown",
   "id": "deeedf49",
   "metadata": {},
   "source": [
    "# Resume Job Postings\n",
    "\n",
    "2. Ranking job postings"
   ]
  },
  {
   "cell_type": "code",
   "execution_count": 1,
   "metadata": {},
   "outputs": [],
   "source": [
    "# Setup\n",
    "import pandas as pd\n",
    "from sklearn.feature_extraction.text import TfidfVectorizer\n",
    "from sklearn.metrics.pairwise import cosine_similarity\n",
    "import matplotlib.pyplot as plt\n",
    "\n",
    "%matplotlib inline"
   ]
  },
  {
   "cell_type": "code",
   "execution_count": 2,
   "metadata": {},
   "outputs": [
    {
     "data": {
      "text/html": [
       "<div>\n",
       "<style scoped>\n",
       "    .dataframe tbody tr th:only-of-type {\n",
       "        vertical-align: middle;\n",
       "    }\n",
       "\n",
       "    .dataframe tbody tr th {\n",
       "        vertical-align: top;\n",
       "    }\n",
       "\n",
       "    .dataframe thead th {\n",
       "        text-align: right;\n",
       "    }\n",
       "</style>\n",
       "<table border=\"1\" class=\"dataframe\">\n",
       "  <thead>\n",
       "    <tr style=\"text-align: right;\">\n",
       "      <th></th>\n",
       "      <th>title</th>\n",
       "      <th>body</th>\n",
       "      <th>bullets</th>\n",
       "    </tr>\n",
       "  </thead>\n",
       "  <tbody>\n",
       "    <tr>\n",
       "      <th>2</th>\n",
       "      <td>Data Scientist - Newark, CA</td>\n",
       "      <td>Data Scientist - Newark, CA\\nData Scientist\\n\\...</td>\n",
       "      <td>(Design, develop, document and maintain machin...</td>\n",
       "    </tr>\n",
       "    <tr>\n",
       "      <th>6</th>\n",
       "      <td>PwC Labs - Jr. Data Scientist - Machine Learni...</td>\n",
       "      <td>PwC Labs - Jr. Data Scientist - Machine Learni...</td>\n",
       "      <td>(Invite and provide evidence-based feedback in...</td>\n",
       "    </tr>\n",
       "    <tr>\n",
       "      <th>12</th>\n",
       "      <td>Senior Data Scientist - Sunnyvale, CA 94089</td>\n",
       "      <td>Senior Data Scientist - Sunnyvale, CA 94089\\nI...</td>\n",
       "      <td>(Ability to mentor and up level junior data sc...</td>\n",
       "    </tr>\n",
       "    <tr>\n",
       "      <th>14</th>\n",
       "      <td>Data Scientist - Seattle, WA</td>\n",
       "      <td>Data Scientist - Seattle, WA\\nMS with 2+ years...</td>\n",
       "      <td>(MS with 2+ years of industry experience or Ba...</td>\n",
       "    </tr>\n",
       "    <tr>\n",
       "      <th>15</th>\n",
       "      <td>Data Scientist - Pasadena, CA 91107</td>\n",
       "      <td>Data Scientist - Pasadena, CA 91107\\nJob Type:...</td>\n",
       "      <td>(Use statistical and programming software comb...</td>\n",
       "    </tr>\n",
       "  </tbody>\n",
       "</table>\n",
       "</div>"
      ],
      "text/plain": [
       "                                                title  \\\n",
       "2                         Data Scientist - Newark, CA   \n",
       "6   PwC Labs - Jr. Data Scientist - Machine Learni...   \n",
       "12        Senior Data Scientist - Sunnyvale, CA 94089   \n",
       "14                       Data Scientist - Seattle, WA   \n",
       "15                Data Scientist - Pasadena, CA 91107   \n",
       "\n",
       "                                                 body  \\\n",
       "2   Data Scientist - Newark, CA\\nData Scientist\\n\\...   \n",
       "6   PwC Labs - Jr. Data Scientist - Machine Learni...   \n",
       "12  Senior Data Scientist - Sunnyvale, CA 94089\\nI...   \n",
       "14  Data Scientist - Seattle, WA\\nMS with 2+ years...   \n",
       "15  Data Scientist - Pasadena, CA 91107\\nJob Type:...   \n",
       "\n",
       "                                              bullets  \n",
       "2   (Design, develop, document and maintain machin...  \n",
       "6   (Invite and provide evidence-based feedback in...  \n",
       "12  (Ability to mentor and up level junior data sc...  \n",
       "14  (MS with 2+ years of industry experience or Ba...  \n",
       "15  (Use statistical and programming software comb...  "
      ]
     },
     "execution_count": 2,
     "metadata": {},
     "output_type": "execute_result"
    }
   ],
   "source": [
    "# Read the pickle file\n",
    "df = pd.read_pickle('step1_df.pk')\n",
    "df.head()"
   ]
  },
  {
   "cell_type": "code",
   "execution_count": 3,
   "metadata": {},
   "outputs": [],
   "source": [
    "# Read the resume\n",
    "try:\n",
    "    with open('./data/Liveproject Resume.txt', 'r') as f:\n",
    "        resume = f.read()\n",
    "except:\n",
    "    print('The resume is not in that directory')"
   ]
  },
  {
   "cell_type": "code",
   "execution_count": 7,
   "metadata": {},
   "outputs": [
    {
     "data": {
      "text/html": [
       "<div>\n",
       "<style scoped>\n",
       "    .dataframe tbody tr th:only-of-type {\n",
       "        vertical-align: middle;\n",
       "    }\n",
       "\n",
       "    .dataframe tbody tr th {\n",
       "        vertical-align: top;\n",
       "    }\n",
       "\n",
       "    .dataframe thead th {\n",
       "        text-align: right;\n",
       "    }\n",
       "</style>\n",
       "<table border=\"1\" class=\"dataframe\">\n",
       "  <thead>\n",
       "    <tr style=\"text-align: right;\">\n",
       "      <th></th>\n",
       "      <th>title</th>\n",
       "      <th>body</th>\n",
       "      <th>bullets</th>\n",
       "    </tr>\n",
       "  </thead>\n",
       "  <tbody>\n",
       "    <tr>\n",
       "      <th>2</th>\n",
       "      <td>Data Scientist - Newark, CA</td>\n",
       "      <td>Data Scientist - Newark, CA\\nData Scientist\\n\\...</td>\n",
       "      <td>(Design, develop, document and maintain machin...</td>\n",
       "    </tr>\n",
       "    <tr>\n",
       "      <th>6</th>\n",
       "      <td>PwC Labs - Jr. Data Scientist - Machine Learni...</td>\n",
       "      <td>PwC Labs - Jr. Data Scientist - Machine Learni...</td>\n",
       "      <td>(Invite and provide evidence-based feedback in...</td>\n",
       "    </tr>\n",
       "    <tr>\n",
       "      <th>12</th>\n",
       "      <td>Senior Data Scientist - Sunnyvale, CA 94089</td>\n",
       "      <td>Senior Data Scientist - Sunnyvale, CA 94089\\nI...</td>\n",
       "      <td>(Ability to mentor and up level junior data sc...</td>\n",
       "    </tr>\n",
       "    <tr>\n",
       "      <th>14</th>\n",
       "      <td>Data Scientist - Seattle, WA</td>\n",
       "      <td>Data Scientist - Seattle, WA\\nMS with 2+ years...</td>\n",
       "      <td>(MS with 2+ years of industry experience or Ba...</td>\n",
       "    </tr>\n",
       "    <tr>\n",
       "      <th>15</th>\n",
       "      <td>Data Scientist - Pasadena, CA 91107</td>\n",
       "      <td>Data Scientist - Pasadena, CA 91107\\nJob Type:...</td>\n",
       "      <td>(Use statistical and programming software comb...</td>\n",
       "    </tr>\n",
       "  </tbody>\n",
       "</table>\n",
       "</div>"
      ],
      "text/plain": [
       "                                                title  \\\n",
       "2                         Data Scientist - Newark, CA   \n",
       "6   PwC Labs - Jr. Data Scientist - Machine Learni...   \n",
       "12        Senior Data Scientist - Sunnyvale, CA 94089   \n",
       "14                       Data Scientist - Seattle, WA   \n",
       "15                Data Scientist - Pasadena, CA 91107   \n",
       "\n",
       "                                                 body  \\\n",
       "2   Data Scientist - Newark, CA\\nData Scientist\\n\\...   \n",
       "6   PwC Labs - Jr. Data Scientist - Machine Learni...   \n",
       "12  Senior Data Scientist - Sunnyvale, CA 94089\\nI...   \n",
       "14  Data Scientist - Seattle, WA\\nMS with 2+ years...   \n",
       "15  Data Scientist - Pasadena, CA 91107\\nJob Type:...   \n",
       "\n",
       "                                              bullets  \n",
       "2   (Design, develop, document and maintain machin...  \n",
       "6   (Invite and provide evidence-based feedback in...  \n",
       "12  (Ability to mentor and up level junior data sc...  \n",
       "14  (MS with 2+ years of industry experience or Ba...  \n",
       "15  (Use statistical and programming software comb...  "
      ]
     },
     "execution_count": 7,
     "metadata": {},
     "output_type": "execute_result"
    }
   ],
   "source": [
    "# Prepare for vectorization\n",
    "resume_dict = {'title':'resume','body':resume,'bullets':''}\n",
    "df_with_resume = df.append(pd.DataFrame(resume_dict, index=[0]))\n",
    "df_with_resume.head()"
   ]
  },
  {
   "cell_type": "code",
   "execution_count": 8,
   "metadata": {},
   "outputs": [
    {
     "data": {
      "text/html": [
       "<div>\n",
       "<style scoped>\n",
       "    .dataframe tbody tr th:only-of-type {\n",
       "        vertical-align: middle;\n",
       "    }\n",
       "\n",
       "    .dataframe tbody tr th {\n",
       "        vertical-align: top;\n",
       "    }\n",
       "\n",
       "    .dataframe thead th {\n",
       "        text-align: right;\n",
       "    }\n",
       "</style>\n",
       "<table border=\"1\" class=\"dataframe\">\n",
       "  <thead>\n",
       "    <tr style=\"text-align: right;\">\n",
       "      <th></th>\n",
       "      <th>title</th>\n",
       "      <th>body</th>\n",
       "      <th>bullets</th>\n",
       "    </tr>\n",
       "  </thead>\n",
       "  <tbody>\n",
       "    <tr>\n",
       "      <th>1323</th>\n",
       "      <td>Lead Data Scientist - Portland, OR 97239</td>\n",
       "      <td>Lead Data Scientist - Portland, OR 97239\\nOver...</td>\n",
       "      <td>(Work as part of a team of data scientists to ...</td>\n",
       "    </tr>\n",
       "    <tr>\n",
       "      <th>1328</th>\n",
       "      <td>Natural Language Processing and Machine Learni...</td>\n",
       "      <td>Natural Language Processing and Machine Learni...</td>\n",
       "      <td>(Academic / Industry experience in NLP and Mac...</td>\n",
       "    </tr>\n",
       "    <tr>\n",
       "      <th>1330</th>\n",
       "      <td>Data Scientist - San Francisco, CA 94103</td>\n",
       "      <td>Data Scientist - San Francisco, CA 94103\\nWant...</td>\n",
       "      <td>(Apply statistics techniques to improve Wish’s...</td>\n",
       "    </tr>\n",
       "    <tr>\n",
       "      <th>1332</th>\n",
       "      <td>Data Scientist - Glen Mills, PA</td>\n",
       "      <td>Data Scientist - Glen Mills, PA\\nSSRS Data Sci...</td>\n",
       "      <td>(Use machine learning methods (e.g., cluster a...</td>\n",
       "    </tr>\n",
       "    <tr>\n",
       "      <th>0</th>\n",
       "      <td>resume</td>\n",
       "      <td>ï»¿Good Student\\nData Scientist\\n\\t  \\n\\nGood ...</td>\n",
       "      <td></td>\n",
       "    </tr>\n",
       "  </tbody>\n",
       "</table>\n",
       "</div>"
      ],
      "text/plain": [
       "                                                  title  \\\n",
       "1323           Lead Data Scientist - Portland, OR 97239   \n",
       "1328  Natural Language Processing and Machine Learni...   \n",
       "1330           Data Scientist - San Francisco, CA 94103   \n",
       "1332                    Data Scientist - Glen Mills, PA   \n",
       "0                                                resume   \n",
       "\n",
       "                                                   body  \\\n",
       "1323  Lead Data Scientist - Portland, OR 97239\\nOver...   \n",
       "1328  Natural Language Processing and Machine Learni...   \n",
       "1330  Data Scientist - San Francisco, CA 94103\\nWant...   \n",
       "1332  Data Scientist - Glen Mills, PA\\nSSRS Data Sci...   \n",
       "0     ï»¿Good Student\\nData Scientist\\n\\t  \\n\\nGood ...   \n",
       "\n",
       "                                                bullets  \n",
       "1323  (Work as part of a team of data scientists to ...  \n",
       "1328  (Academic / Industry experience in NLP and Mac...  \n",
       "1330  (Apply statistics techniques to improve Wish’s...  \n",
       "1332  (Use machine learning methods (e.g., cluster a...  \n",
       "0                                                        "
      ]
     },
     "execution_count": 8,
     "metadata": {},
     "output_type": "execute_result"
    }
   ],
   "source": [
    "df_with_resume.tail()"
   ]
  },
  {
   "cell_type": "code",
   "execution_count": 9,
   "metadata": {},
   "outputs": [
    {
     "data": {
      "text/plain": [
       "scipy.sparse.csr.csr_matrix"
      ]
     },
     "execution_count": 9,
     "metadata": {},
     "output_type": "execute_result"
    }
   ],
   "source": [
    "# Vectorize the dataframe\n",
    "vectorizer = TfidfVectorizer(stop_words='english')\n",
    "transformed_docs = vectorizer.fit_transform(df_with_resume['body'])\n",
    "type(transformed_docs)"
   ]
  },
  {
   "cell_type": "code",
   "execution_count": 11,
   "metadata": {},
   "outputs": [],
   "source": [
    "# Capture all job descriptions\n",
    "tfidf_jobs = transformed_docs[:-1, :]\n",
    "# Capture the resume part\n",
    "tfidf_resume = transformed_docs[-1, :]"
   ]
  },
  {
   "cell_type": "code",
   "execution_count": 12,
   "metadata": {},
   "outputs": [
    {
     "name": "stdout",
     "output_type": "stream",
     "text": [
      "df_with_resume:  (542, 3)\n",
      "transformed_docs:  (542, 10509)\n",
      "tfidf_jobs:  (541, 10509)\n"
     ]
    }
   ],
   "source": [
    "# Check shape of matrices\n",
    "print('df_with_resume: ', df_with_resume.shape)\n",
    "print('transformed_docs: ', transformed_docs.shape)\n",
    "print('tfidf_jobs: ', tfidf_jobs.shape)"
   ]
  },
  {
   "cell_type": "code",
   "execution_count": 14,
   "metadata": {},
   "outputs": [
    {
     "name": "stdout",
     "output_type": "stream",
     "text": [
      "(541, 1)\n"
     ]
    }
   ],
   "source": [
    "# Calculate cosine similarity\n",
    "cos_sims = cosine_similarity(tfidf_jobs, tfidf_resume)\n",
    "print(cos_sims.shape) #(n_jobs, resume)"
   ]
  },
  {
   "cell_type": "code",
   "execution_count": 15,
   "metadata": {},
   "outputs": [
    {
     "data": {
      "text/html": [
       "<div>\n",
       "<style scoped>\n",
       "    .dataframe tbody tr th:only-of-type {\n",
       "        vertical-align: middle;\n",
       "    }\n",
       "\n",
       "    .dataframe tbody tr th {\n",
       "        vertical-align: top;\n",
       "    }\n",
       "\n",
       "    .dataframe thead th {\n",
       "        text-align: right;\n",
       "    }\n",
       "</style>\n",
       "<table border=\"1\" class=\"dataframe\">\n",
       "  <thead>\n",
       "    <tr style=\"text-align: right;\">\n",
       "      <th></th>\n",
       "      <th>title</th>\n",
       "      <th>body</th>\n",
       "      <th>bullets</th>\n",
       "      <th>cosine_similarity</th>\n",
       "    </tr>\n",
       "  </thead>\n",
       "  <tbody>\n",
       "    <tr>\n",
       "      <th>0</th>\n",
       "      <td>Data Science Health Innovation Fellow Job - BI...</td>\n",
       "      <td>Data Science Health Innovation Fellow Job - BI...</td>\n",
       "      <td>(Demonstrated ability to propose, initiate, an...</td>\n",
       "      <td>0.155612</td>\n",
       "    </tr>\n",
       "    <tr>\n",
       "      <th>1</th>\n",
       "      <td>Machine Learning Postdoctoral Fellow - San Fra...</td>\n",
       "      <td>Machine Learning Postdoctoral Fellow - San Fra...</td>\n",
       "      <td>(Design and develop distributed machine learni...</td>\n",
       "      <td>0.146193</td>\n",
       "    </tr>\n",
       "    <tr>\n",
       "      <th>2</th>\n",
       "      <td>Post-doc: Dissemination/implementation and/or ...</td>\n",
       "      <td>Post-doc: Dissemination/implementation and/or ...</td>\n",
       "      <td>()</td>\n",
       "      <td>0.091850</td>\n",
       "    </tr>\n",
       "    <tr>\n",
       "      <th>3</th>\n",
       "      <td>Machine Learning Intern - San Diego, CA</td>\n",
       "      <td>Machine Learning Intern - San Diego, CA\\nInnov...</td>\n",
       "      <td>(Design and develop machine learning models to...</td>\n",
       "      <td>0.085786</td>\n",
       "    </tr>\n",
       "    <tr>\n",
       "      <th>4</th>\n",
       "      <td>Data Science Summer Institute Student Intern -...</td>\n",
       "      <td>Data Science Summer Institute Student Intern -...</td>\n",
       "      <td>(Students will work with scientists, engineers...</td>\n",
       "      <td>0.083359</td>\n",
       "    </tr>\n",
       "  </tbody>\n",
       "</table>\n",
       "</div>"
      ],
      "text/plain": [
       "                                               title  \\\n",
       "0  Data Science Health Innovation Fellow Job - BI...   \n",
       "1  Machine Learning Postdoctoral Fellow - San Fra...   \n",
       "2  Post-doc: Dissemination/implementation and/or ...   \n",
       "3            Machine Learning Intern - San Diego, CA   \n",
       "4  Data Science Summer Institute Student Intern -...   \n",
       "\n",
       "                                                body  \\\n",
       "0  Data Science Health Innovation Fellow Job - BI...   \n",
       "1  Machine Learning Postdoctoral Fellow - San Fra...   \n",
       "2  Post-doc: Dissemination/implementation and/or ...   \n",
       "3  Machine Learning Intern - San Diego, CA\\nInnov...   \n",
       "4  Data Science Summer Institute Student Intern -...   \n",
       "\n",
       "                                             bullets  cosine_similarity  \n",
       "0  (Demonstrated ability to propose, initiate, an...           0.155612  \n",
       "1  (Design and develop distributed machine learni...           0.146193  \n",
       "2                                                 ()           0.091850  \n",
       "3  (Design and develop machine learning models to...           0.085786  \n",
       "4  (Students will work with scientists, engineers...           0.083359  "
      ]
     },
     "execution_count": 15,
     "metadata": {},
     "output_type": "execute_result"
    }
   ],
   "source": [
    "# sort job postings based on cosine similarity\n",
    "sorted_df = df.copy()\n",
    "sorted_df['cosine_similarity'] = cos_sims\n",
    "sorted_df.sort_values(by='cosine_similarity', ascending=False, inplace=True)\n",
    "sorted_df.reset_index(inplace=True, drop=True)\n",
    "sorted_df.head()"
   ]
  },
  {
   "cell_type": "code",
   "execution_count": 16,
   "metadata": {},
   "outputs": [
    {
     "data": {
      "image/png": "[encoded data removed]",
      "text/plain": [
       "<Figure size 720x432 with 1 Axes>"
      ]
     },
     "metadata": {
      "needs_background": "light"
     },
     "output_type": "display_data"
    }
   ],
   "source": [
    "# Change the shape of the plot to fill the page a little better\n",
    "plt.figure(figsize=(10, 6))\n",
    "sorted_df['cosine_similarity'].plot()\n",
    "plt.title('Cosine similarity of job postings to our resume')\n",
    "plt.xlabel('number of job postings')\n",
    "plt.ylabel('cosine similarity')\n",
    "# Add a vertical red line at the x value of 100\n",
    "# Sending the output of our last plt command to the underscore prevents it from printing text\n",
    "_ = plt.axvline(100, c='r')"
   ]
  },
  {
   "cell_type": "markdown",
   "metadata": {},
   "source": [
    "We can see from eyeballing the plot that after around 50-100 of the most similar postings is where the similarity starts to flatten out. So we’ll only use the 100 most similar postings for the next\n",
    "parts of the analysis."
   ]
  },
  {
   "cell_type": "code",
   "execution_count": 17,
   "metadata": {},
   "outputs": [
    {
     "data": {
      "text/html": [
       "<div>\n",
       "<style scoped>\n",
       "    .dataframe tbody tr th:only-of-type {\n",
       "        vertical-align: middle;\n",
       "    }\n",
       "\n",
       "    .dataframe tbody tr th {\n",
       "        vertical-align: top;\n",
       "    }\n",
       "\n",
       "    .dataframe thead th {\n",
       "        text-align: right;\n",
       "    }\n",
       "</style>\n",
       "<table border=\"1\" class=\"dataframe\">\n",
       "  <thead>\n",
       "    <tr style=\"text-align: right;\">\n",
       "      <th></th>\n",
       "      <th>title</th>\n",
       "      <th>body</th>\n",
       "      <th>bullets</th>\n",
       "      <th>cosine_similarity</th>\n",
       "    </tr>\n",
       "  </thead>\n",
       "  <tbody>\n",
       "    <tr>\n",
       "      <th>0</th>\n",
       "      <td>Data Science Health Innovation Fellow Job - BI...</td>\n",
       "      <td>Data Science Health Innovation Fellow Job - BI...</td>\n",
       "      <td>(Demonstrated ability to propose, initiate, an...</td>\n",
       "      <td>0.155612</td>\n",
       "    </tr>\n",
       "    <tr>\n",
       "      <th>1</th>\n",
       "      <td>Machine Learning Postdoctoral Fellow - San Fra...</td>\n",
       "      <td>Machine Learning Postdoctoral Fellow - San Fra...</td>\n",
       "      <td>(Design and develop distributed machine learni...</td>\n",
       "      <td>0.146193</td>\n",
       "    </tr>\n",
       "    <tr>\n",
       "      <th>2</th>\n",
       "      <td>Post-doc: Dissemination/implementation and/or ...</td>\n",
       "      <td>Post-doc: Dissemination/implementation and/or ...</td>\n",
       "      <td>()</td>\n",
       "      <td>0.091850</td>\n",
       "    </tr>\n",
       "    <tr>\n",
       "      <th>3</th>\n",
       "      <td>Machine Learning Intern - San Diego, CA</td>\n",
       "      <td>Machine Learning Intern - San Diego, CA\\nInnov...</td>\n",
       "      <td>(Design and develop machine learning models to...</td>\n",
       "      <td>0.085786</td>\n",
       "    </tr>\n",
       "    <tr>\n",
       "      <th>4</th>\n",
       "      <td>Data Science Summer Institute Student Intern -...</td>\n",
       "      <td>Data Science Summer Institute Student Intern -...</td>\n",
       "      <td>(Students will work with scientists, engineers...</td>\n",
       "      <td>0.083359</td>\n",
       "    </tr>\n",
       "    <tr>\n",
       "      <th>5</th>\n",
       "      <td>Senior Data Scientist, Education - Redwood Cit...</td>\n",
       "      <td>Senior Data Scientist, Education - Redwood Cit...</td>\n",
       "      <td>(Leverage data to understand product, identify...</td>\n",
       "      <td>0.082124</td>\n",
       "    </tr>\n",
       "    <tr>\n",
       "      <th>6</th>\n",
       "      <td>Bioinformatics Associate Data Scientist - San ...</td>\n",
       "      <td>Bioinformatics Associate Data Scientist - San ...</td>\n",
       "      <td>(Work on designing and implementing a framewor...</td>\n",
       "      <td>0.075557</td>\n",
       "    </tr>\n",
       "    <tr>\n",
       "      <th>7</th>\n",
       "      <td>data scientist - United States</td>\n",
       "      <td>data scientist - United States\\nJob Summary\\nA...</td>\n",
       "      <td>(Excellent understanding of machine learning t...</td>\n",
       "      <td>0.073980</td>\n",
       "    </tr>\n",
       "    <tr>\n",
       "      <th>8</th>\n",
       "      <td>Natural Language Processing and Machine Learni...</td>\n",
       "      <td>Natural Language Processing and Machine Learni...</td>\n",
       "      <td>(Academic / Industry experience in NLP and Mac...</td>\n",
       "      <td>0.073446</td>\n",
       "    </tr>\n",
       "    <tr>\n",
       "      <th>9</th>\n",
       "      <td>Data Scientist - United States</td>\n",
       "      <td>Data Scientist - United States\\nEV Technologie...</td>\n",
       "      <td>(Selecting features, building and optimizing c...</td>\n",
       "      <td>0.070614</td>\n",
       "    </tr>\n",
       "  </tbody>\n",
       "</table>\n",
       "</div>"
      ],
      "text/plain": [
       "                                               title  \\\n",
       "0  Data Science Health Innovation Fellow Job - BI...   \n",
       "1  Machine Learning Postdoctoral Fellow - San Fra...   \n",
       "2  Post-doc: Dissemination/implementation and/or ...   \n",
       "3            Machine Learning Intern - San Diego, CA   \n",
       "4  Data Science Summer Institute Student Intern -...   \n",
       "5  Senior Data Scientist, Education - Redwood Cit...   \n",
       "6  Bioinformatics Associate Data Scientist - San ...   \n",
       "7                     data scientist - United States   \n",
       "8  Natural Language Processing and Machine Learni...   \n",
       "9                     Data Scientist - United States   \n",
       "\n",
       "                                                body  \\\n",
       "0  Data Science Health Innovation Fellow Job - BI...   \n",
       "1  Machine Learning Postdoctoral Fellow - San Fra...   \n",
       "2  Post-doc: Dissemination/implementation and/or ...   \n",
       "3  Machine Learning Intern - San Diego, CA\\nInnov...   \n",
       "4  Data Science Summer Institute Student Intern -...   \n",
       "5  Senior Data Scientist, Education - Redwood Cit...   \n",
       "6  Bioinformatics Associate Data Scientist - San ...   \n",
       "7  data scientist - United States\\nJob Summary\\nA...   \n",
       "8  Natural Language Processing and Machine Learni...   \n",
       "9  Data Scientist - United States\\nEV Technologie...   \n",
       "\n",
       "                                             bullets  cosine_similarity  \n",
       "0  (Demonstrated ability to propose, initiate, an...           0.155612  \n",
       "1  (Design and develop distributed machine learni...           0.146193  \n",
       "2                                                 ()           0.091850  \n",
       "3  (Design and develop machine learning models to...           0.085786  \n",
       "4  (Students will work with scientists, engineers...           0.083359  \n",
       "5  (Leverage data to understand product, identify...           0.082124  \n",
       "6  (Work on designing and implementing a framewor...           0.075557  \n",
       "7  (Excellent understanding of machine learning t...           0.073980  \n",
       "8  (Academic / Industry experience in NLP and Mac...           0.073446  \n",
       "9  (Selecting features, building and optimizing c...           0.070614  "
      ]
     },
     "execution_count": 17,
     "metadata": {},
     "output_type": "execute_result"
    }
   ],
   "source": [
    "# copy the DataFrame\n",
    "most_similar_df = sorted_df.iloc[:100].copy()\n",
    "most_similar_df.head(10)"
   ]
  },
  {
   "cell_type": "code",
   "execution_count": 18,
   "metadata": {},
   "outputs": [
    {
     "name": "stderr",
     "output_type": "stream",
     "text": [
      "C:\\Users\\sebastian.buitrago\\AppData\\Local\\Programs\\Python\\Python37\\lib\\site-packages\\ipykernel_launcher.py:2: UserWarning: This pattern has match groups. To actually get the groups, use str.extract.\n",
      "  \n"
     ]
    },
    {
     "data": {
      "text/plain": [
       "(100, 4)"
      ]
     },
     "execution_count": 18,
     "metadata": {},
     "output_type": "execute_result"
    }
   ],
   "source": [
    "# Sanity check - Title includes words data science/data scientist/machine learning\n",
    "most_similar_df[most_similar_df['title'].str.contains('(data scientist)|(data science)|(machine learning)', case=False)].shape"
   ]
  },
  {
   "cell_type": "code",
   "execution_count": 19,
   "metadata": {},
   "outputs": [],
   "source": [
    "# Save the df in a pickle file\n",
    "most_similar_df.to_pickle('step2_df.pk')"
   ]
  },
  {
   "cell_type": "code",
   "execution_count": null,
   "metadata": {},
   "outputs": [],
   "source": []
  }
 ],
 "metadata": {
  "interpreter": {
   "hash": "0ce5b0d3d7016a78f38153d8febd9754ffd4cf578927e97417bc03228832e5f0"
  },
  "kernelspec": {
   "display_name": "Python 3.7.9 64-bit",
   "name": "python3"
  },
  "language_info": {
   "codemirror_mode": {
    "name": "ipython",
    "version": 3
   },
   "file_extension": ".py",
   "mimetype": "text/x-python",
   "name": "python",
   "nbconvert_exporter": "python",
   "pygments_lexer": "ipython3",
   "version": "3.7.9"
  }
 },
 "nbformat": 4,
 "nbformat_minor": 5
}
