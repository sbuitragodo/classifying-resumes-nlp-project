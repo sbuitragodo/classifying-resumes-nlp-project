{
 "cells": [
  {
   "cell_type": "markdown",
   "id": "deeedf49",
   "metadata": {},
   "source": [
    "# Resume Job Postings\n",
    "\n",
    "1. Extracting raw text from job postings"
   ]
  },
  {
   "cell_type": "code",
   "execution_count": 4,
   "metadata": {},
   "outputs": [],
   "source": [
    "# Setup\n",
    "import glob\n",
    "import pandas as pd\n",
    "from bs4 import BeautifulSoup as bs\n"
   ]
  },
  {
   "cell_type": "code",
   "execution_count": 12,
   "id": "a3c47a54",
   "metadata": {},
   "outputs": [
    {
     "name": "stdout",
     "output_type": "stream",
     "text": [
      "Number of HTML files: 1337\n"
     ]
    }
   ],
   "source": [
    "# List of files in the html directory\n",
    "files = glob.glob('./data/html_job_postings//*.html')\n",
    "print('Number of HTML files: {}'.format(len(files)))"
   ]
  },
  {
   "cell_type": "code",
   "execution_count": 15,
   "id": "295224bc",
   "metadata": {},
   "outputs": [],
   "source": [
    "# Load all HTML pages as text into a list -- one entry per HTML page\n",
    "html_content = []\n",
    "for file in files:\n",
    "    with open(file, 'r', encoding='utf-8') as f:\n",
    "        html_content.append(f.read())"
   ]
  },
  {
   "cell_type": "code",
   "execution_count": 16,
   "id": "2a8ac283",
   "metadata": {},
   "outputs": [
    {
     "data": {
      "text/plain": [
       "'<html><head><title>Data Engineer - Columbus, GA 31909</title></head>\\n<body><h2>Data Engineer - Columbus, GA 31909</h2>\\n<p>Celebrating its twenty-fifth anniversary in 2016, Cyient is an acknowledged leader in engineering design services, design-led manufacturing, networks and operations, data transformation, and analytics. We collaborate with our clients to help them achieve more and together shape a better future. We call it Designing Tomorrow Together.\\n</p><p></p><p>Our industry focus includes aerospace, defense, rail transportation, off-highway &amp; industrial, power generation, mining, oil &amp; gas, communications, utilities, geospatial, semiconductor and medical technology. We align closely with the business needs, goals, culture, and core values of our clients. This reflects in the deep, long-standing relationships we have developed and sustained with some of the leading names in these industries.\\n</p><p></p><p><b>LOCATION\\n</b></p>Columbus,Georgia\\n<p></p><p><b>JOB DESCRIPTION SUMMARY\\n</b></p><p></p>Expertise in computational, quantitative, and algorithmic techniques applicable to data science. Performs data wrangling, ETL, and data exploration tasks. Data feature engineering to collect and structure to enhance modeling/analytical framework.\\n<p><b>JOB DESCRIPTION\\n</b></p><p>Provides expertise on computational, quantitative, and algorithmic techniques applicable to data science\\n</p><p>Performs data wrangling, ETL, and data exploration tasks\\n</p><p>Create and develop predictive models using AI/ML technologies, installing/monitoring the production performance of models.\\n</p><p>Data feature engineering to collect and structure to enhance modeling/analytical framework.\\n</p><p>Work closely with business analysts and engineers to deploy models in production both in real time and in batch process and systematically track model performance.\\n</p><p>Participate in analysis of data stores and help with data analytics\\n<br/>\\nEnsure solutions developed adhere to security and data entitlements\\n<br/>\\nTranslate functional and technical requirements into detail design\\n</p><p>Good communications, interpersonal skills &amp; Proactive.\\n</p><p></p><p><b>Minimum Qualifications\\n</b></p><ul><li>Bachelor’s or Master’s degree in statistics, operations research, computer science, physics or related discipline\\n</li><li>2+ years of industry experience in a technical role, preferably in a data science capacity\\n</li><li>Good knowledge of R or Python or Spark\\n</li><li>Knowledge of the following: Generalized Linear and Non-Linear Models, Time Series Analysis, Random Forest, Gradient Boosted Machines, Neural Networks, Unsupervised Methods (Dimensionality Reduction, Clustering, etc.)\\n</li><li>Experience querying relational data systems for ETL and data integration tasks\\n</li><li>Good communications skills with ability to present to technical and business audiences\\n</li><li>Experience using Spark/Hadoop systems for distributed analytics and data processing\\n</li><li>Experience working in a cloud-computing environment such as AWS, Azure, GCP, etc</li></ul></body>\\n</html>'"
      ]
     },
     "execution_count": 16,
     "metadata": {},
     "output_type": "execute_result"
    }
   ],
   "source": [
    "# Inspect the first entry of the list of resumes\n",
    "html_content[0]"
   ]
  },
  {
   "cell_type": "code",
   "execution_count": 20,
   "id": "161e298a",
   "metadata": {},
   "outputs": [
    {
     "data": {
      "text/html": [
       "<div>\n",
       "<style scoped>\n",
       "    .dataframe tbody tr th:only-of-type {\n",
       "        vertical-align: middle;\n",
       "    }\n",
       "\n",
       "    .dataframe tbody tr th {\n",
       "        vertical-align: top;\n",
       "    }\n",
       "\n",
       "    .dataframe thead th {\n",
       "        text-align: right;\n",
       "    }\n",
       "</style>\n",
       "<table border=\"1\" class=\"dataframe\">\n",
       "  <thead>\n",
       "    <tr style=\"text-align: right;\">\n",
       "      <th></th>\n",
       "      <th>title</th>\n",
       "      <th>body</th>\n",
       "      <th>bullets</th>\n",
       "    </tr>\n",
       "  </thead>\n",
       "  <tbody>\n",
       "    <tr>\n",
       "      <th>0</th>\n",
       "      <td>Data Engineer - Columbus, GA 31909</td>\n",
       "      <td>Data Engineer - Columbus, GA 31909\\nCelebratin...</td>\n",
       "      <td>[Bachelor’s or Master’s degree in statistics, ...</td>\n",
       "    </tr>\n",
       "  </tbody>\n",
       "</table>\n",
       "</div>"
      ],
      "text/plain": [
       "                                title  \\\n",
       "0  Data Engineer - Columbus, GA 31909   \n",
       "\n",
       "                                                body  \\\n",
       "0  Data Engineer - Columbus, GA 31909\\nCelebratin...   \n",
       "\n",
       "                                             bullets  \n",
       "0  [Bachelor’s or Master’s degree in statistics, ...  "
      ]
     },
     "execution_count": 20,
     "metadata": {},
     "output_type": "execute_result"
    }
   ],
   "source": [
    "# Store webpage section with skills\n",
    "html_sections = []\n",
    "html_dict = {}\n",
    "\n",
    "for key in ['title', 'body', 'bullets']:\n",
    "    html_dict[key] = []\n",
    "\n",
    "# Prototype with first page of the HTML list\n",
    "first_page = html_content[0]\n",
    "soup = bs(first_page, \"html.parser\")\n",
    "# Get key parts\n",
    "title = soup.find('title').text\n",
    "body = soup.find('body').text\n",
    "bullets = soup.find_all('li')\n",
    "html_dict['title'].append(title)\n",
    "html_dict['body'].append(body)\n",
    "# Cleaning bullets content\n",
    "html_dict['bullets'].append([b.text.strip() for b in bullets])\n",
    "\n",
    "df = pd.DataFrame(data=html_dict)\n",
    "df.head()"
   ]
  },
  {
   "cell_type": "code",
   "execution_count": 25,
   "id": "72e73f80",
   "metadata": {},
   "outputs": [],
   "source": [
    "# Apply prototype in a general function\n",
    "def get_html_content(html_content):\n",
    "    \"\"\"Extracts title, and list items from HTML job postings.\n",
    "    Args:\n",
    "        html_content (list): List of html resumes.\n",
    "    Return:\n",
    "        df: Returns a pandas dataframe with separate columns for title, body, and bullet items.\"\"\"\n",
    "    \n",
    "    html_sections = []\n",
    "    html_dict = {}\n",
    "    for key in ['title', 'body', 'bullets']:\n",
    "        html_dict[key] = []\n",
    "    for html in html_content:\n",
    "        soup = bs(html, \"html.parser\")\n",
    "        title = soup.find('title').text\n",
    "        body = soup.find('body').text\n",
    "        bullets = soup.find_all('li')\n",
    "        html_dict['title'].append(title)\n",
    "        html_dict['body'].append(body)\n",
    "        # remove extra leading and trailing whitespace with strip()\n",
    "        html_dict['bullets'].append([b.text.strip() for b in bullets])\n",
    "    \n",
    "    df = pd.DataFrame(html_dict)\n",
    "    return df"
   ]
  },
  {
   "cell_type": "code",
   "execution_count": 26,
   "id": "3f4b4cbf",
   "metadata": {},
   "outputs": [
    {
     "data": {
      "text/html": [
       "<div>\n",
       "<style scoped>\n",
       "    .dataframe tbody tr th:only-of-type {\n",
       "        vertical-align: middle;\n",
       "    }\n",
       "\n",
       "    .dataframe tbody tr th {\n",
       "        vertical-align: top;\n",
       "    }\n",
       "\n",
       "    .dataframe thead th {\n",
       "        text-align: right;\n",
       "    }\n",
       "</style>\n",
       "<table border=\"1\" class=\"dataframe\">\n",
       "  <thead>\n",
       "    <tr style=\"text-align: right;\">\n",
       "      <th></th>\n",
       "      <th>title</th>\n",
       "      <th>body</th>\n",
       "      <th>bullets</th>\n",
       "    </tr>\n",
       "  </thead>\n",
       "  <tbody>\n",
       "    <tr>\n",
       "      <th>0</th>\n",
       "      <td>Data Engineer - Columbus, GA 31909</td>\n",
       "      <td>Data Engineer - Columbus, GA 31909\\nCelebratin...</td>\n",
       "      <td>[Bachelor’s or Master’s degree in statistics, ...</td>\n",
       "    </tr>\n",
       "    <tr>\n",
       "      <th>1</th>\n",
       "      <td>Data Analyst - St. Louis, MO</td>\n",
       "      <td>Data Analyst - St. Louis, MO\\nDuties\\nSummary\\...</td>\n",
       "      <td>[Job family (Series)\\n1501 General Mathematics...</td>\n",
       "    </tr>\n",
       "    <tr>\n",
       "      <th>2</th>\n",
       "      <td>Data Scientist - Newark, CA</td>\n",
       "      <td>Data Scientist - Newark, CA\\nData Scientist\\n\\...</td>\n",
       "      <td>[Design, develop, document and maintain machin...</td>\n",
       "    </tr>\n",
       "    <tr>\n",
       "      <th>3</th>\n",
       "      <td>Patient Care Assistant / PCA - Med/Surg (Fayet...</td>\n",
       "      <td>Patient Care Assistant / PCA - Med/Surg (Fayet...</td>\n",
       "      <td>[Provides all personal care services in accord...</td>\n",
       "    </tr>\n",
       "    <tr>\n",
       "      <th>4</th>\n",
       "      <td>Scientific Programmer - Berkeley, CA</td>\n",
       "      <td>Scientific Programmer - Berkeley, CA\\nCaribou ...</td>\n",
       "      <td>[Demonstrated proficiency with Python, JavaScr...</td>\n",
       "    </tr>\n",
       "  </tbody>\n",
       "</table>\n",
       "</div>"
      ],
      "text/plain": [
       "                                               title  \\\n",
       "0                 Data Engineer - Columbus, GA 31909   \n",
       "1                       Data Analyst - St. Louis, MO   \n",
       "2                        Data Scientist - Newark, CA   \n",
       "3  Patient Care Assistant / PCA - Med/Surg (Fayet...   \n",
       "4               Scientific Programmer - Berkeley, CA   \n",
       "\n",
       "                                                body  \\\n",
       "0  Data Engineer - Columbus, GA 31909\\nCelebratin...   \n",
       "1  Data Analyst - St. Louis, MO\\nDuties\\nSummary\\...   \n",
       "2  Data Scientist - Newark, CA\\nData Scientist\\n\\...   \n",
       "3  Patient Care Assistant / PCA - Med/Surg (Fayet...   \n",
       "4  Scientific Programmer - Berkeley, CA\\nCaribou ...   \n",
       "\n",
       "                                             bullets  \n",
       "0  [Bachelor’s or Master’s degree in statistics, ...  \n",
       "1  [Job family (Series)\\n1501 General Mathematics...  \n",
       "2  [Design, develop, document and maintain machin...  \n",
       "3  [Provides all personal care services in accord...  \n",
       "4  [Demonstrated proficiency with Python, JavaScr...  "
      ]
     },
     "execution_count": 26,
     "metadata": {},
     "output_type": "execute_result"
    }
   ],
   "source": [
    "df = get_html_content(html_content)\n",
    "df.head()"
   ]
  }
 ],
 "metadata": {
  "interpreter": {
   "hash": "0ce5b0d3d7016a78f38153d8febd9754ffd4cf578927e97417bc03228832e5f0"
  },
  "kernelspec": {
   "display_name": "Python 3.7.9 64-bit",
   "name": "python3"
  },
  "language_info": {
   "codemirror_mode": {
    "name": "ipython",
    "version": 3
   },
   "file_extension": ".py",
   "mimetype": "text/x-python",
   "name": "python",
   "nbconvert_exporter": "python",
   "pygments_lexer": "ipython3",
   "version": "3.7.9"
  }
 },
 "nbformat": 4,
 "nbformat_minor": 5
}
